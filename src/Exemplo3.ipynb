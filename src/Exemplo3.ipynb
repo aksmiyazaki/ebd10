{
 "cells": [
  {
   "cell_type": "markdown",
   "metadata": {},
   "source": [
    "Manipulando Arquivos de Dados\n",
    "============\n",
    "Neste exemplo você irá aprender a carregar arquivos XML.\n",
    "\n",
    "**Antes de iniciar a atividade, caso opte por executar o script localmente, baixe os arquivos 'curriculo(*).xml' em sua máquina!**\n",
    "\n",
    "Lembre-se de que para executar o código é necessário selecionar a célula que o contém e utilizar o botão \"play\" no menu superior. Você também pode mandar executar todas as células de uma única vez escolhendo a opção \"Run all\" no menu \"Cell\"."
   ]
  },
  {
   "cell_type": "code",
   "execution_count": null,
   "metadata": {
    "collapsed": true
   },
   "outputs": [],
   "source": [
    "import pandas as pd                    # pandas é uma biblioteca para manipulação de tabelas de dados\n",
    "import xml.etree.ElementTree as ET     # ElementTree é uma biblioteca que carrega elementos de um arquivo XML\n",
    "\n",
    "N_CVs = 1 # Número de arquivos de CVs a carregar (carrega 1 só para exemplificar)\n",
    "\n",
    "# Carrega XML e mostra na tela dados principais do autor e também os artigos completos publicados\n",
    "for i in range(1,N_CVs+1):\n",
    "    arquivo = 'curriculo(' + str(i) + ').xml'\n",
    "    print(\"Lendo arquivo: \", arquivo)\n",
    "    doc_tree_root = (ET.parse(arquivo)).getroot()\n",
    "    for elem in doc_tree_root:        \n",
    "        if elem.tag == 'DADOS-GERAIS':\n",
    "            print('Elemento: ' + elem.tag )\n",
    "            print('Atributos: ') # + str(elem.attrib))\n",
    "            for key, value in elem.items():\n",
    "                print('\\t'+ key + ': ' + value)\n",
    "        if elem.tag == 'PRODUCAO-BIBLIOGRAFICA':\n",
    "            print('Elemento: ' + elem.tag )\n",
    "            trabalhos = elem.findall('./TRABALHOS-EM-EVENTOS/TRABALHO-EM-EVENTOS')\n",
    "            for trabalho in trabalhos:\n",
    "                dados_basicos = trabalho.find('DADOS-BASICOS-DO-TRABALHO').attrib\n",
    "                detalhes = trabalho.find('DETALHAMENTO-DO-TRABALHO').attrib\n",
    "                autores = trabalho.findall('AUTORES')\n",
    "                if dados_basicos.get('NATUREZA') == 'COMPLETO':\n",
    "                    print('\\tArtigo: ' + dados_basicos.get('TITULO-DO-TRABALHO'))\n",
    "                    for key, value in dados_basicos.items():\n",
    "                        print('\\t\\t'+ key + ': ' + value)\n",
    "                    for key, value in detalhes.items():\n",
    "                        print('\\t\\t'+ key + ': ' + value)   \n",
    "                    print('\\t\\tAutores: ')\n",
    "                    for autor in autores:\n",
    "                        for key, value in autor.items():\n",
    "                            print('\\t\\t\\t'+ key + ': ' + value)   "
   ]
  },
  {
   "cell_type": "code",
   "execution_count": null,
   "metadata": {},
   "outputs": [],
   "source": [
    "import pandas as pd                    \n",
    "import xml.etree.ElementTree as ET     \n",
    "\n",
    "N_CVs = 1 \n",
    "linhas = [] # uma linha para cada artigo lido\n",
    "\n",
    "# Carrega CVs e cria um dataframe com os dados dos artigos lidos\n",
    "for i in range(1,N_CVs+1):\n",
    "    arquivo = 'curriculo(' + str(i) + ').xml'\n",
    "    print(\"Lendo arquivo: \", arquivo)\n",
    "    doc_tree_root = (ET.parse(arquivo)).getroot()\n",
    "    for elem in doc_tree_root:                \n",
    "        if elem.tag == 'PRODUCAO-BIBLIOGRAFICA':            \n",
    "            trabalhos = elem.findall('./TRABALHOS-EM-EVENTOS/TRABALHO-EM-EVENTOS')\n",
    "            for trabalho in trabalhos:\n",
    "                dados_basicos = trabalho.find('DADOS-BASICOS-DO-TRABALHO').attrib\n",
    "                detalhes = trabalho.find('DETALHAMENTO-DO-TRABALHO').attrib\n",
    "                autores = trabalho.findall('AUTORES')\n",
    "                if dados_basicos.get('NATUREZA') == 'COMPLETO':\n",
    "                    print('\\tArtigo encontrado: ' + dados_basicos.get('TITULO-DO-TRABALHO'))                    \n",
    "                    dados = dict(dados_basicos)\n",
    "                    dados.update(detalhes)\n",
    "                    lst = []\n",
    "                    lst_autores= {}\n",
    "                    for autor in autores:                        \n",
    "                        lst.append(autor.get('NOME-COMPLETO-DO-AUTOR'))                      \n",
    "                    lst_autores['AUTORES'] = lst\n",
    "                    dados.update(lst_autores)                    \n",
    "                    linhas.append(dados)                                        \n",
    "prodPPGC = pd.DataFrame(linhas) # df é o dataframe contendo todos os dados lidos"
   ]
  },
  {
   "cell_type": "markdown",
   "metadata": {},
   "source": [
    "**Para saber quais são as colunas de informações lidas,  use o seguinte comando:**"
   ]
  },
  {
   "cell_type": "code",
   "execution_count": null,
   "metadata": {
    "collapsed": true
   },
   "outputs": [],
   "source": [
    "print(prodPPGC.columns)"
   ]
  },
  {
   "cell_type": "markdown",
   "metadata": {},
   "source": [
    "**Para ver o conteúdo do dataframe, use o seguinte comando:**"
   ]
  },
  {
   "cell_type": "code",
   "execution_count": null,
   "metadata": {
    "collapsed": true
   },
   "outputs": [],
   "source": [
    "# prodPPGC   \n",
    "prodPPGC.head() # mostra só os 5 primeiros, por questões de espaço (descomente a linha de cima, i.e., tire o head(), para mostrar todos)"
   ]
  },
  {
   "cell_type": "markdown",
   "metadata": {},
   "source": [
    "**Vamos agora utilizar a bibliteca 'pandas' para: **\n",
    "- **verificar quantos artigos (no total) são produzidos por ano, no programa PPGC;**\n",
    "- **montar uma tabela que demonstre quantos artigos por tipo (periódico ou conferência) são publicados por ano.** \n",
    "- **mostrar um gráfico em barras que compare a produção de cada tipo, por ano);**\n",
    "- **montar uma tabela que demonstre a quantidade total de artigos por QUALIS;**\n",
    "- **extratificar a tabela anterior, demonstrando a quantidade de artigos em cada tipo de qualis, por ano, além de gráficos em linha que demonstrem a evolução da produção no período;**\n",
    "- **montar uma tabela e um gráfico que demonstre informações estatísticas (mediana, moda, desvio padrão, etc.).** \n"
   ]
  },
  {
   "cell_type": "code",
   "execution_count": null,
   "metadata": {
    "collapsed": true
   },
   "outputs": [],
   "source": [
    "# habilita a geração de gráficos no Jupyter\n",
    "%matplotlib inline"
   ]
  },
  {
   "cell_type": "code",
   "execution_count": null,
   "metadata": {
    "collapsed": true
   },
   "outputs": [],
   "source": [
    "# Agrupa os registros por tipo de produção e coloca em 'prodPPGCByTipos':\n",
    "prodPPGCByTipos = prodPPGC.groupby('CLASSIFICACAO-DO-EVENTO')"
   ]
  },
  {
   "cell_type": "code",
   "execution_count": null,
   "metadata": {
    "collapsed": true
   },
   "outputs": [],
   "source": [
    "# Mostra os 2 primeiros registros do dataset resultante \n",
    "# (como há 2 grupos de dados, um para cada tipo de produção, i.e., periódicos e conferências), \n",
    "# acaba mostrando 4, ou seja, 2 para cada grupo):\n",
    "prodPPGCByTipos.head(2)"
   ]
  },
  {
   "cell_type": "code",
   "execution_count": null,
   "metadata": {
    "collapsed": true
   },
   "outputs": [],
   "source": [
    "# verifica o tamanho (quantidade de itens) de cada grupo e mostra gráfico em barras\n",
    "prodPPGCByTipos.size().plot.bar(color=['red', 'blue'])"
   ]
  },
  {
   "cell_type": "code",
   "execution_count": null,
   "metadata": {
    "collapsed": true
   },
   "outputs": [],
   "source": [
    "# verifica o tamanho (quantidade de itens) de cada grupo e mostra gráfico em pizza\n",
    "prodPPGCByTipos.size().plot.pie(colors=['red', 'blue'])"
   ]
  },
  {
   "cell_type": "code",
   "execution_count": null,
   "metadata": {
    "collapsed": true
   },
   "outputs": [],
   "source": [
    "# personalizando o gráfico\n",
    "import matplotlib.pyplot as plot\n",
    "plot.pie(prodPPGCByTipos.size(), colors=['red', 'blue'], labels=prodPPGCByTipos.groups.keys(), shadow=True,autopct='%1.1f%%')\n",
    "plot.title('PUBLICACOES POR TIPO')"
   ]
  },
  {
   "cell_type": "code",
   "execution_count": null,
   "metadata": {
    "collapsed": true
   },
   "outputs": [],
   "source": [
    "# Agrupa por ano:\n",
    "prodPPGCByAno = prodPPGC.groupby('ANO-DO-TRABALHO')\n",
    "\n",
    "# conta quantos registros cada grupo (ano) possui\n",
    "resultado = prodPPGCByAno.count()\n",
    "\n",
    "# troca o nome da coluna \n",
    "resultado.rename(columns={'ANO-DE-REALIZACAO': 'Quantidade'}, inplace=True)\n",
    "\n",
    "# mostra quantidade por ano, em forma de tabela\n",
    "resultado[['Quantidade']]"
   ]
  },
  {
   "cell_type": "code",
   "execution_count": null,
   "metadata": {
    "collapsed": true
   },
   "outputs": [],
   "source": [
    "# Motra quantidade total de artigos por ano em um gráfico em barras\n",
    "resultado['Quantidade'].plot.bar()\n",
    "\n",
    "# também poderia ter feito direto: prodPPGCByAno.size().plot.bar()"
   ]
  },
  {
   "cell_type": "code",
   "execution_count": null,
   "metadata": {
    "collapsed": true
   },
   "outputs": [],
   "source": [
    "# mostra tabela com a evolução da quantidade por ano, extratificada por tipo \n",
    "resultado = prodPPGC.groupby(['ANO-DO-TRABALHO','CLASSIFICACAO-DO-EVENTO']).size().unstack()\n",
    "resultado"
   ]
  },
  {
   "cell_type": "code",
   "execution_count": null,
   "metadata": {
    "collapsed": true
   },
   "outputs": [],
   "source": [
    "# Gráfico\n",
    "resultado.plot(kind='bar', stacked=True)"
   ]
  },
  {
   "cell_type": "markdown",
   "metadata": {},
   "source": [
    "** Tente descobrir o Qualis de cada publicação, usando os arquivos 'QualisConferencias.csv' (ou .xml) e 'QualisPeriodicos.csv' (ou .xml). Agregue essa informação à tabela. **\n",
    "\n",
    "**Realize as demais atividades solicitadas, em resumo:**\n",
    "- Crie uma **tabela (dataframe) de pesquisadores (professores)**, contendo ID (pode ser número inteiro incrementado automaticamente) e seus respectivos nomes completos, eliminar duplicatas, eliminar acentos, etc;\n",
    "- Crie uma **tabela (dataframe) de linhas de pesquisa** (ver página do PPGC do Instituto de Informática) contendo ID (pode ser número inteiro incrementado automaticamente) e descrição da linha; \n",
    "- Crie uma **tabela (dataframe) de Eventos-Periódicos**, contendo ID (pode ser número inteiro incrementado automaticamente), nome do periódico ou evento, sigla (se tiver), ISSN (se tiver);\n",
    "- Crie uma **tabela (dataframe) de QUALIS**, contendo ID (pode ser número inteiro incrementado automaticamente), nome do evento ou periódico, ano do QUALIS, sigla (se tiver) e ISSN (se tiver);\n",
    "- Crie uma **tabela (dataframe) de fatos**, armazenando os dados das publicações e respectivos IDs das dimensões definidas;\n",
    "- Crie uma **tabela (dataframe) de datas (ano)**, que pode também ter como atributo o quadriênio\n",
    "\n",
    "**Salve todos os dataframes em arquivos separados**. Mais adiante, vamos usá-los para popular tabelas em um banco de dados (ou usar diretamente em uma ferramenta OLAP).\n",
    "\n",
    "Para salvar os dataframes resultantes, utilize o comando to_csv('nome do arquivo.csv')!"
   ]
  },
  {
   "cell_type": "code",
   "execution_count": null,
   "metadata": {},
   "outputs": [],
   "source": []
  }
 ],
 "metadata": {
  "kernelspec": {
   "display_name": "Python 3",
   "language": "python",
   "name": "python3"
  },
  "language_info": {
   "codemirror_mode": {
    "name": "ipython",
    "version": 3
   },
   "file_extension": ".py",
   "mimetype": "text/x-python",
   "name": "python",
   "nbconvert_exporter": "python",
   "pygments_lexer": "ipython3",
   "version": "3.7.1"
  }
 },
 "nbformat": 4,
 "nbformat_minor": 2
}
