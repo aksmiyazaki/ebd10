{
  "metadata": {
    "kernelspec": {
      "display_name": "Python 3.6",
      "language": "python",
      "name": "python36"
    },
    "language_info": {
      "mimetype": "text/x-python",
      "nbconvert_exporter": "python",
      "name": "python",
      "pygments_lexer": "ipython3",
      "version": "3.6.6",
      "file_extension": ".py",
      "codemirror_mode": {
        "version": 3,
        "name": "ipython"
      }
    }
  },
  "nbformat_minor": 2,
  "nbformat": 4,
  "cells": [
    {
      "cell_type": "markdown",
      "source": "Para todas nossas atividades vamos utilizar um ambiente chamado **[Jupyter](http://jupyter.org)**. \n\nEsse ambiente possui uma interface Web e todas as ferramentas necessárias para criarmos blocos de notas contendo nossos experimentos de Data Science. \n\nPara maiores informações sobre como instalar e usar o Jupyter, consulte as seguintes URLs:\n\n1. [Documentação sobre o uso (básico) do ambiente Jupyter](http://jupyter-notebook.readthedocs.io/en/latest/examples/Notebook/Notebook%20Basics.html)\n2. [Tutorial de uso do ambiente Jupyter](http://nbviewer.jupyter.org/github/ipython/ipython/blob/2.x/examples/Notebook/Index.ipynb)\n3. [Instalação, configuração e customização](https://jupyter.readthedocs.io/en/latest/install.html)\n\n**Se você não quiser instalar o Jupyter, não se preocupe. Existem vários sites gratuítos com ele pré-instalado para uso. Um bem interessante é o http://notebooks.azure.com/.** \n\n**Atenção**: este notebook (bloco de notas) foi escrito utilizando a linguagem *Markdown* em conjunto com *Python 3.6*. Para uma visão geral de como utilizar a linguagem markdown, consulte o seguinte link: http://github.com/adam-p/markdown-here/wiki/Markdown-Cheatsheet",
      "metadata": {}
    },
    {
      "cell_type": "markdown",
      "source": "## Codificação básica em Python e plotagem de gráficos\n\n\n*Atenção: Os exemplos seguintes foram adaptados e traduzidos do seguinte artigo na Nature: http://www.nature.com/news/ipython-interactive-demo-7.21492.* \n \n\nA caixa seguinte (também chamada de célula) contém código em Python para plotar a equação $y=x^2$ entre $[0,5]$. Os comentários (precedidos de `#`) explicam o que o código faz. \n\nPara executar o código:\n\n1. Clique na célula para selecioná-la;\n2. Pressione SHIFT+ENTER ou clique no botão \"play\" (<button class='fa fa-play icon-play btn btn-xs btn-default'></button>) na barra de comandos no topo desta página.",
      "metadata": {}
    },
    {
      "cell_type": "code",
      "source": "# Informa que os resultados gráficos devem ser mostrados dentro do Notebook:\n%matplotlib inline \n\n# Importa a biblioteca  de geração de gráficos:\nimport matplotlib.pyplot as plt \n\n# Importa a biblioteca de geração de arranjos numéricos:\nimport numpy as np              \n\n# Cria um arranjo (vetor) de 30 valores para x igualmente espaçados entre 0 e 5:\nx = np.linspace(0, 5, 30)\ny = x*2\n\n# Plota y vs x\nfig, ax = plt.subplots(nrows=1, ncols=1)\nax.plot(x, y, color='red')\nax.set_xlabel('x')\nax.set_ylabel('y')\nax.set_title('Gráfico simples da função $y=x^2$');",
      "metadata": {
        "trusted": true
      },
      "execution_count": null,
      "outputs": []
    },
    {
      "cell_type": "markdown",
      "source": "Após executar o código, acima você deve ver a plotagem da equação $y = x^2$.\n\nVocê pode editar esse código e re-executá-lo. Por exemplo, tente mudar a equação $y = x^2$ por `y=np.sin(x)`. Dica: para não perder o código anterior, faça uma cópia da célula (menu *copy* e, depois, *paste-bellow*). Você também pode mudar o título do gráfico e as legendas das dimensões...\n\nPara uma lista de funções válidas, veja o [Manual de Referência da Biblioteca NumPy](http://docs.scipy.org/doc/numpy/reference/routines.math.html). ",
      "metadata": {}
    },
    {
      "cell_type": "markdown",
      "source": "## Blocos interativos\n\nOs **notebooks também podem ligar código com componentes de interface**, tais como *sliders, caixas de texto, combo boxes e check boxes*, os quais facilitam a exploração interativa. Aliás, essa é uma aplicação interessante da ferramenta para a área da educação e de simulação - leia a postagem sobre [Explorable Explanations de Bret Victor](http://worrydream.com/ExplorableExplanations/).\n\nO seguinte exemplo foi criado para ilustrar os perigos do aliasing, que ocorre quando um sinal periódico de flutuação muito rápida é amostrado com pouca frequência, criando uma falsa impressão da verdadeira frequência do sinal. Segundo o autor, Ketcheson, \n\n>\"As an undergraduate, I did some observational astronomy looking at variable stars. These are stars whose brightness oscillates, usually on a fairly regular basis. Many published results claim to measure how quickly the star's brightness oscillates - but actually report the oscillations at some multiple of the real answer, owing to insufficient observation and (as a result) aliasing.\"\nThis example shows how trying to reconstruct a simple sine wave signal from discrete measurements can fail. The sliders allow you to adjust the frequency of the underlying periodic sine wave signal (represented by frequency), and also how often the signal is sampled (represented by grid_points). Get it wrong, and a high-frequency sine wave is measured as a lower-frequency signal.\n\n**Para ver os efeitos da técnica de aliasing nos dados coletados: **\n\n1. **Execute a célula e ajuste o slider dos pontos de grade (grade_pontos) para 13;**\n2. **Mova o slider de frequência para valores acima de 10.**\n\n**Perceba que, com o aumento da frequência, o sinal mensurado (em azul) tem uma frequencia menor do que a real (em vermelho).**",
      "metadata": {}
    },
    {
      "cell_type": "code",
      "source": "%matplotlib inline\nimport matplotlib.pyplot as plt\nimport numpy as np\n\n# A linha seguinite importa uma função que permite interagir com o usuário\n# Ela é usada na sequência para criar um widget interativo\nfrom ipywidgets import interact\n\ndef plot_sine(frequencia=4.0, grade_pontos=12, plotar_original=True):\n    \"\"\"\n    Plota amostras discretas de uma onda sinoidal no intervalo ``[0, 1]``.\n    \"\"\"\n    x = np.linspace(0, 1, grade_pontos + 2)\n    y = np.sin(2 * frequencia  * np.pi * x)\n\n    xf = np.linspace(0, 1, 1000)\n    yf = np.sin(2 * frequencia * np.pi * xf)\n\n    fig, ax = plt.subplots(figsize=(8, 6))\n    ax.set_xlabel('x')\n    ax.set_ylabel('sinal')\n    ax.set_title('Aliasing (graduação) em sinal periódico amostrado discretamente')\n\n    if plotar_original:\n        ax.plot(xf, yf, color='red', linestyle='solid', linewidth=2)\n\n    ax.plot(x,  y,  marker='o', linewidth=2)\n\n# A função 'interact' automaticamente constroi um componente interativo para explorar\n# a função 'plot_sine'\ninteract(plot_sine, frequency=(1.0, 22.0, 0.5), grid_points=(10, 16, 1), plot_original=True);",
      "metadata": {
        "trusted": true
      },
      "execution_count": null,
      "outputs": []
    },
    {
      "cell_type": "markdown",
      "source": "**Um último exemplo identifica e conta galáxias no campo de visão do Hubble.** Ele utiliza bibliotecas poderosas da linguagem Python (que abordam tudo relacionado com estatística e aprendizado de máquina para a análise de sinais e processamento de imagens). Este exemplo usa uma biblioteca de processamento de imagens (skikit-image) para identificar galáxias em uma imagem do céu obtida pelo Telescópio Espacial Hubble, tendo como base um algoritmo de detecção de características.\n\nDepois de executar a célula, após alguns segundos, você pode brincar com os parâmetros do algoritmo de detecção para detectar galáxias de diferentes tamanhos.\n\nO parâmetro ``max_sigma`` determina o tamanho máximo dos objetos a serem identificados. O ``threshold`` poded ser reduzido para detectar objetos menos proeminentes. ",
      "metadata": {}
    },
    {
      "cell_type": "code",
      "source": "%matplotlib inline\nfrom matplotlib import pyplot as plt\nfrom skimage import data\nfrom skimage.feature import blob_doh\nfrom skimage.color import rgb2gray\nfrom ipywidgets import interact, fixed\n\n# Extrai os 500 primeiros pixels quadrados do Hubble Deep Field\nimage = data.hubble_deep_field()[0:500, 0:500]\nimage_gray = rgb2gray(image)\n\ndef plot_blobs(max_sigma=30, threshold=0.1, gray=False):\n    \"\"\"\n    Plota a imagem e os blobs encontrados.\n    \"\"\"\n    blobs = blob_doh(image_gray, max_sigma=max_sigma, threshold=threshold)\n    \n    fig, ax = plt.subplots(figsize=(8,8))\n    ax.set_title('Galaxies in the Hubble Deep Field')\n    \n    if gray:\n        ax.imshow(image_gray, interpolation='nearest', cmap='gray_r')\n        circle_color = 'red'\n    else:\n        ax.imshow(image, interpolation='nearest')\n        circle_color = 'yellow'\n    for blob in blobs:\n        y, x, r = blob\n        c = plt.Circle((x, y), r, color=circle_color, linewidth=2, fill=False)\n        ax.add_patch(c)\n\n# Use interact to explore the galaxy detection algorithm.\ninteract(plot_blobs, max_sigma=(10, 40, 2), threshold=(0.005, 0.02, 0.001));",
      "metadata": {
        "trusted": true
      },
      "execution_count": null,
      "outputs": []
    },
    {
      "cell_type": "markdown",
      "source": "No seguinte link você encontra uma galeria de notebooks Jupyter interessantes: http://github.com/jupyter/jupyter/wiki/A-gallery-of-interesting-Jupyter-Notebooks",
      "metadata": {}
    }
  ]
}