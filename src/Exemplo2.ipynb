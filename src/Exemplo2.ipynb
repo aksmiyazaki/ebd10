{
  "metadata": {
    "kernelspec": {
      "display_name": "Python 3",
      "language": "python",
      "name": "python3"
    },
    "language_info": {
      "codemirror_mode": {
        "name": "ipython",
        "version": 3
      },
      "file_extension": ".py",
      "mimetype": "text/x-python",
      "name": "python",
      "nbconvert_exporter": "python",
      "pygments_lexer": "ipython3",
      "version": "3.5.4"
    }
  },
  "nbformat_minor": 2,
  "nbformat": 4,
  "cells": [
    {
      "cell_type": "markdown",
      "source": "Manipulando Arquivos de Dados\n============\nNeste exemplo você irá aprender a carregar arquivos contendo informações (exportadas de algum banco de dados, sistema ou repositório) e a analisar analisar as informações contidas neles.\n\n**Antes de iniciar a atividade, caso opte por executar o script localmente:**\n\n- **Primeiro baixe o arquivo de dados entitulado 'extratoppgc.csv' (o arquivo contém dados reais, mas incompletos, os quais podem ser obtidos de maneira pública);**\n- **Suba esse arquivo na plataforma Jupyter. Para tanto, vá ao menu 'Data > Upload' e escolha o arquivo 'extratoppgc.csv' que você baixou no passo anterior (se o ambiente perguntar onde colocar o arquivo, escolha a pasta 'library');** \n- **Depois de ter encaminhado o arquivo, use o código seguinte para abrí-lo.** \n\nLembre-se de que para executar o código é necessário selecionar a célula que o contém e utilizar o botão \"play\" no menu superior. Você também pode mandar executar todas as células de uma única vez escolhendo a opção \"Run all\" no menu \"Cell\".",
      "metadata": {}
    },
    {
      "cell_type": "code",
      "source": "# pandas é uma biblioteca para manipulação de tabelas de dados\nimport pandas as pd\n\n# Nome do arquivo de dados\narquivo = 'extratoppgc.csv'\n\nprint(\"Lendo arquivo: \", arquivo)\n\n# lê o arquivo e coloca o resultado em um dataframe chamado 'df'\n#df = pd.read_csv(arquivo, encoding='cp860',sep=\";\") \ndf = pd.read_csv(arquivo, sep=\";\") \n\nprint(\"Arquivo lido.\")",
      "metadata": {
        "collapsed": true,
        "trusted": true
      },
      "execution_count": null,
      "outputs": []
    },
    {
      "cell_type": "markdown",
      "source": "**Para saber quais são as colunas que esse arquivo possui, use o seguinte comando:**",
      "metadata": {}
    },
    {
      "cell_type": "code",
      "source": "print(df.columns)",
      "metadata": {
        "collapsed": true,
        "trusted": true
      },
      "execution_count": null,
      "outputs": []
    },
    {
      "cell_type": "markdown",
      "source": "**Para ver o conteúdo do dataframe, use o seguinte comando:**",
      "metadata": {}
    },
    {
      "cell_type": "code",
      "source": "print(df)",
      "metadata": {
        "collapsed": true,
        "trusted": true
      },
      "execution_count": null,
      "outputs": []
    },
    {
      "cell_type": "code",
      "source": "# para ver o resultado em forma de tabela, simplesmente solicite o dataframe:\ndf",
      "metadata": {
        "collapsed": true,
        "trusted": true
      },
      "execution_count": null,
      "outputs": []
    },
    {
      "cell_type": "markdown",
      "source": "**Vamos agora utilizar a bibliteca 'pandas' para: **\n- **verificar quantos artigos (no total) são produzidos por ano, no programa PPGC;**\n- **montar uma tabela que demonstre quantos artigos por tipo (periódico ou conferência) são publicados por ano.** \n- **mostrar um gráfico em barras que compare a produção de cada tipo, por ano);**\n- **montar uma tabela que demonstre a quantidade total de artigos por QUALIS;**\n- **extratificar a tabela anterior, demonstrando a quantidade de artigos em cada tipo de qualis, por ano, além de gráficos em linha que demonstrem a evolução da produção no período;**\n- **montar uma tabela e um gráfico que demonstre informações estatísticas (mediana, moda, desvio padrão, etc.).** \n",
      "metadata": {}
    },
    {
      "cell_type": "code",
      "source": "# habilita a geração de gráficos no Jupyter\n%matplotlib inline\n\n# Seleciona somente os registros que são efetivamente do PPGC e coloca em um novo \n# dataframe chamado 'prodPPGC':\nprodPPGC = df[df['PPGC'] == 'Sim']",
      "metadata": {
        "collapsed": true,
        "trusted": true
      },
      "execution_count": null,
      "outputs": []
    },
    {
      "cell_type": "code",
      "source": "# Mostra 2 primeiros registros do dataframe (só para mostrar que dá para filtrar)\nprodPPGC.head(2)",
      "metadata": {
        "collapsed": true,
        "trusted": true
      },
      "execution_count": null,
      "outputs": []
    },
    {
      "cell_type": "code",
      "source": "# Remove a coluna PPGC do dataframe, pois ela não é mais necessária (afinal, agora ele só tem dados do PPGC)\nprodPPGC = prodPPGC.drop(['PPGC'], axis=1)",
      "metadata": {
        "collapsed": true,
        "trusted": true
      },
      "execution_count": null,
      "outputs": []
    },
    {
      "cell_type": "code",
      "source": "# Agrupa os registros por tipo de produção e coloca em 'prodPPGCByTipos':\nprodPPGCByTipos = prodPPGC.groupby('Tipo')",
      "metadata": {
        "collapsed": true,
        "trusted": true
      },
      "execution_count": null,
      "outputs": []
    },
    {
      "cell_type": "code",
      "source": "# Mostra os 2 primeiros registros do dataset resultante \n# (como há 2 grupos de dados, um para cada tipo de produção, i.e., periódicos e conferências), \n# acaba mostrando 4, ou seja, 2 para cada grupo):\nprodPPGCByTipos.head(2)",
      "metadata": {
        "collapsed": true,
        "trusted": true
      },
      "execution_count": null,
      "outputs": []
    },
    {
      "cell_type": "code",
      "source": "# verifica o tamanho (quantidade de itens) de cada grupo e mostra gráfico em barras\nprodPPGCByTipos.size().plot.bar(color=['red', 'blue'])",
      "metadata": {
        "collapsed": true,
        "trusted": true
      },
      "execution_count": null,
      "outputs": []
    },
    {
      "cell_type": "code",
      "source": "# verifica o tamanho (quantidade de itens) de cada grupo e mostra gráfico em pizza\nprodPPGCByTipos.size().plot.pie(colors=['red', 'blue'])",
      "metadata": {
        "collapsed": true,
        "trusted": true
      },
      "execution_count": null,
      "outputs": []
    },
    {
      "cell_type": "code",
      "source": "# personalizando o gráfico\nimport matplotlib.pyplot as plot\nplot.pie(prodPPGCByTipos.size(), colors=['red', 'blue'], labels=prodPPGCByTipos.groups.keys(), shadow=True,autopct='%1.1f%%')\nplot.title('PUBLICAÃÃES POR TIPO')",
      "metadata": {
        "collapsed": true,
        "trusted": true
      },
      "execution_count": null,
      "outputs": []
    },
    {
      "cell_type": "code",
      "source": "# Agrupa por ano:\nprodPPGCByAno = prodPPGC.groupby('Ano')\n\n# conta quantos registros cada grupo (ano) possui\nresultado = prodPPGCByAno.count()\n\n# troca o nome da coluna \nresultado.rename(columns={'Qualis': 'Quantidade'}, inplace=True)\n\n# mostra quantidade por ano, em forma de tabela\nresultado[['Quantidade']]",
      "metadata": {
        "collapsed": true,
        "trusted": true
      },
      "execution_count": null,
      "outputs": []
    },
    {
      "cell_type": "code",
      "source": "# Motra quantidade total de artigos por ano em um gráfico em barras\nresultado['Quantidade'].plot.bar()\n\n# também poderia ter feito direto: prodPPGCByAno.size().plot.bar()",
      "metadata": {
        "collapsed": true,
        "trusted": true
      },
      "execution_count": null,
      "outputs": []
    },
    {
      "cell_type": "code",
      "source": "# Agrupa dados de produção por ano e, dentro do ano, por tipo\nprodPPGCByTipoporAno = prodPPGC.groupby(['Ano','Tipo'])\n# ou prodPPGCByTipoporAno = prodPPGC.groupby([prodPPGC['Ano'],prodPPGC['Tipo']])\n\nresultado = prodPPGCByTipoporAno.size().unstack()",
      "metadata": {
        "collapsed": true,
        "trusted": true
      },
      "execution_count": null,
      "outputs": []
    },
    {
      "cell_type": "code",
      "source": "# Tabela com a quantidade de artigos por tipo de qualis, por ano:\nresultado.columns.values[0] =  'Artigos em Conferências'\nresultado.columns.values[1] =  'Artigos em Periódicos'\nresultado",
      "metadata": {
        "collapsed": true,
        "trusted": true
      },
      "execution_count": null,
      "outputs": []
    },
    {
      "cell_type": "code",
      "source": "# Tabela alternativa, agrupada por categorias em linhas:\nresultadoalternativo = prodPPGCByTipoporAno.count()\nresultadoalternativo.columns.values[0] =  'Quantidade'\nresultadoalternativo[['Quantidade']]",
      "metadata": {
        "collapsed": true,
        "trusted": true
      },
      "execution_count": null,
      "outputs": []
    },
    {
      "cell_type": "code",
      "source": "# gráfico \nresultado.plot.bar(color=['red', 'blue'])\n# tente o seguinte e analise se há diferença: \n#prodPPGCByTipoporAno.size().plot.bar(color=['red', 'blue'])",
      "metadata": {
        "collapsed": true,
        "trusted": true
      },
      "execution_count": null,
      "outputs": []
    },
    {
      "cell_type": "code",
      "source": "# mesmo gráfico, mas com barras empilhadas\nresultado.plot.bar(color=['red', 'blue'], stacked=True).legend(title='Tipo de publicação', loc='center left', bbox_to_anchor=(1, 0.5))",
      "metadata": {
        "collapsed": true,
        "trusted": true
      },
      "execution_count": null,
      "outputs": []
    },
    {
      "cell_type": "code",
      "source": "# gráfico em linhas\nresultado = prodPPGCByTipoporAno.size().unstack()\nresultado.columns.values[0] =  'Artigos em ConferÃªncias'\nresultado.columns.values[1] =  'Artigos em PeriÃ³dicos'\nresultado = resultado.reset_index()\nresultado[\"Ano\"] = resultado[\"Ano\"].astype(\"category\")\nresultado.index = resultado['Ano']\nresultado.plot.line(color=['red', 'blue'], linewidth=3, grid=True, marker='x').legend(title='Tipo de publicaÃ§Ã£o', loc='center left', bbox_to_anchor=(1, 0.5))",
      "metadata": {
        "collapsed": true,
        "trusted": true
      },
      "execution_count": null,
      "outputs": []
    },
    {
      "cell_type": "code",
      "source": "# Quantidade total de artigos no período, por QUALIS\nprodPPGCByQualis = prodPPGC.groupby(['Qualis'])\nresultado = prodPPGCByQualis.count()[['Tipo']].rename(columns={'Tipo': 'Quantidade'})\nresultado",
      "metadata": {
        "collapsed": true,
        "trusted": true
      },
      "execution_count": null,
      "outputs": []
    },
    {
      "cell_type": "code",
      "source": "# resultado em um gráfico de barras\nresultado.plot.bar()",
      "metadata": {
        "collapsed": true,
        "trusted": true
      },
      "execution_count": null,
      "outputs": []
    },
    {
      "cell_type": "code",
      "source": "# Quantidade de artigos por qualis no período, extratificado por ano \nresultado = prodPPGC.groupby(['Ano','Qualis']).size()\nresultado.unstack()",
      "metadata": {
        "collapsed": true,
        "trusted": true
      },
      "execution_count": null,
      "outputs": []
    },
    {
      "cell_type": "code",
      "source": "# grráfico em barras empilhadas\nresultado.unstack().plot.bar(stacked=True).legend(loc='center left', bbox_to_anchor=(1, 0.5))",
      "metadata": {
        "collapsed": true,
        "scrolled": true,
        "trusted": true
      },
      "execution_count": null,
      "outputs": []
    },
    {
      "cell_type": "code",
      "source": "# mostra linhas com a evolução da quantidade por ano, por qualis\nresultado.unstack().plot.line(linewidth=3).legend(loc='center left', bbox_to_anchor=(1, 0.5)) # melhore o grÃ¡fico, ajustando as legendas...",
      "metadata": {
        "collapsed": true,
        "trusted": true
      },
      "execution_count": null,
      "outputs": []
    },
    {
      "cell_type": "code",
      "source": "# mostra tabela com a evolução da quantidade por ano, extratificada por tipo e por qualis\nresultado = prodPPGC.groupby(['Ano','Tipo', 'Qualis']).size().unstack()\nresultado",
      "metadata": {
        "collapsed": true,
        "trusted": true
      },
      "execution_count": null,
      "outputs": []
    },
    {
      "cell_type": "code",
      "source": "# Gráfico\nresultado.plot(kind='bar', stacked=True)",
      "metadata": {
        "collapsed": true,
        "trusted": true
      },
      "execution_count": null,
      "outputs": []
    },
    {
      "cell_type": "code",
      "source": "# Tabela de produção anual, por tipo de publicação vs qualis\nresultado = prodPPGC.groupby(['Tipo','Ano', 'Qualis']).size().unstack()\nresultado",
      "metadata": {
        "collapsed": true,
        "trusted": true
      },
      "execution_count": null,
      "outputs": []
    },
    {
      "cell_type": "code",
      "source": "# Mostra a quantidade de artigos no período que possuem alunos da graduação como autores:\nprodPPGC[prodPPGC['Aut.Grad']>0]['Ano'].count()",
      "metadata": {
        "collapsed": true,
        "trusted": true
      },
      "execution_count": null,
      "outputs": []
    },
    {
      "cell_type": "code",
      "source": "# a quantidade de artigos que possuem alunos da graduação, por ano:\nprodPPGC[prodPPGC['Aut.Grad']>0].groupby('Ano')['Tipo'].count()",
      "metadata": {
        "collapsed": true,
        "trusted": true
      },
      "execution_count": null,
      "outputs": []
    },
    {
      "cell_type": "code",
      "source": "# a média anual de artigos com Qualis A1, no período\nprodPPGC[prodPPGC['Qualis']=='A1'].groupby('Ano').count()['Tipo'].mean()",
      "metadata": {
        "collapsed": true,
        "trusted": true
      },
      "execution_count": null,
      "outputs": []
    },
    {
      "cell_type": "markdown",
      "source": "Exemplo 2\n-----------\n\nO **trecho de código a seguir** abre um arquivo CSV disponibilizado pelo professor no seu espaço  pessoal no GitHub usando a biblioteca *`pandas`* (ver http://pandas.pydata.org/ para detalhes sobre ela).\n\nO arquivo contém um trecho dos dados do ENADE de 2014.\n\nOs **dados originais** podem ser obtidos em:\nhttp://dados.gov.br/dataset/microdados-do-exame-nacional-de-desempenho-de-estudantes-enade\n\nEm especial, para este exemplo, foram obtidos os dados de 2014:\nhttp://download.inep.gov.br/microdados/Enade_Microdados/microdados_enade_2014.zip\n\nEles foram coletados, extraídos e disponibilizados na URI especificada no código seguinte. \n\n**Execute-o e perceba que é muito simples coletar dados disponibilizados na Web!**",
      "metadata": {}
    },
    {
      "cell_type": "code",
      "source": "import pandas as pd\n\n# local onde está o arquivo de dados\n#uri = 'http://raw.githubusercontent.com/lwives/mlp/master/2014.csv' \n\nuri = 'http://raw.githubusercontent.com/lwives/mlp/master/enade.csv'\n\nprint(\"Baixando arquivo: \", uri)    \n# Lê o arquivo de dados a partir da URI/URL\n# Detalhes de funcionamento em: http://pandas.pydata.org/pandas-docs/stable/io.html#io-read-csv-table \ndf = pd.read_csv(uri, sep=\";\")\nprint(\"Arquivo baixado!\")    ",
      "metadata": {
        "trusted": true
      },
      "execution_count": null,
      "outputs": []
    },
    {
      "cell_type": "markdown",
      "source": "**O trecho seguinte mostra o conteúdo lido e presente na estrutura interna (dataframe)**",
      "metadata": {}
    },
    {
      "cell_type": "code",
      "source": "df",
      "metadata": {
        "trusted": true
      },
      "execution_count": null,
      "outputs": []
    },
    {
      "cell_type": "markdown",
      "source": "**O trecho seguinte mostra as colunas (atributos) que foram lidos do arquivo:**",
      "metadata": {}
    },
    {
      "cell_type": "code",
      "source": "print(\"Column headers\", df.columns)",
      "metadata": {
        "trusted": true
      },
      "execution_count": null,
      "outputs": []
    },
    {
      "cell_type": "markdown",
      "source": "**A definição de o que significa cada coluna está disponível no portal do INEP (mais especificamente em uma subpasta dentro do arquivo disponível em http://download.inep.gov.br/microdados/Enade_Microdados/microdados_enade_2014.zip).**\n\n**O trecho seguinte mostra um sumário estatístico do arquivo:**",
      "metadata": {}
    },
    {
      "cell_type": "code",
      "source": "df.describe()",
      "metadata": {
        "trusted": true
      },
      "execution_count": null,
      "outputs": []
    },
    {
      "cell_type": "markdown",
      "source": "**Perceba que alguns atributos são *categóricos* e algumas das métricas não fazem sentido (p. ex., média para o ano). Mas podemos mudar a semêntica dos atributos... **\n\n**Por exemplo, o trecho seguinte cria um novo atributo chamado \"ano\", tendo como base o atributo \"nu_ano\", mas em formato categórico. Depois, solicita para gerar dados estatísticos deste novo atributo:**",
      "metadata": {}
    },
    {
      "cell_type": "code",
      "source": "df[\"ano\"] = df[\"nu_ano\"].astype(\"category\")\ndf[\"ano\"].describe()",
      "metadata": {
        "trusted": true
      },
      "execution_count": null,
      "outputs": []
    },
    {
      "cell_type": "markdown",
      "source": "**Também podemos pegar um subconjunto dos dados ou um dos atributos e colocá-los em ordem. O trecho seguinte seleciona a coluna relativa ao ano de conclusão do 2o grau e mostra os registros em ordem crescente, por este campo:**",
      "metadata": {}
    },
    {
      "cell_type": "code",
      "source": "df['ano_fim_2g'].sort_values()",
      "metadata": {},
      "execution_count": null,
      "outputs": []
    },
    {
      "cell_type": "markdown",
      "source": "**Já o trecho seguinte cria uma nova tabela (data-frame) que contém as notas gerais dos alunos (Nota bruta da prova, i.e., a média ponderada da formação geral (25%) e componente específico (75%) (0 a 100)), ordenadas por ano de finalização do 2o grau:**",
      "metadata": {}
    },
    {
      "cell_type": "code",
      "source": "df2 = df[['ano_fim_2g','nt_ger']]\ndf2.sort_values(by='ano_fim_2g')",
      "metadata": {},
      "execution_count": null,
      "outputs": []
    },
    {
      "cell_type": "markdown",
      "source": "**Para ter uma ideia dos tipos de visualização disponíveis, consulte: \nhttp://pandas.pydata.org/pandas-docs/version/0.9.0/visualization.html**\n\n**Para uma visão geral (de 10 minutos) sobre o que você pode fazer com a biblioteca \"Pandas\", consulte: http://pandas.pydata.org/pandas-docs/stable/10min.html**",
      "metadata": {}
    },
    {
      "cell_type": "markdown",
      "source": "Exercícios (extras para praticar, i.e., não obrigatórios)\n-----------\n\n1. Monte um gráfico em barras que mostre a quantidade de pessoas que fizeram a prova, por ano;\n2. Monte um gráfico em barras que mostre a média das notas agrupadas por ano de conclusão do 2o grau;\n3. Agrupe os dados por sexo e monte um gráfico em forma de pizza que demonstre a porcentagem geral de pessoas por sexo;\n4. Monte uma tabela que demonstre informações estatísticas relacionadas com a nota (média, desvio padrão, variância), por ano de conclusão.",
      "metadata": {}
    },
    {
      "cell_type": "code",
      "source": "",
      "metadata": {
        "collapsed": true
      },
      "execution_count": null,
      "outputs": []
    }
  ]
}